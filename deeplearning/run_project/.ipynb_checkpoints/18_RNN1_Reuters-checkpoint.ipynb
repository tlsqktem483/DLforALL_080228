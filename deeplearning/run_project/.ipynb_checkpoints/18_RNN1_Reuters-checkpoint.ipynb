{
 "cells": [
  {
   "cell_type": "markdown",
   "metadata": {},
   "source": [
    "# Chap.18 LSTM을 이요한 로이터 뉴스 카테고리 분류 (2022.08.22)"
   ]
  },
  {
   "cell_type": "code",
   "execution_count": 1,
   "metadata": {},
   "outputs": [
    {
     "name": "stdout",
     "output_type": "stream",
     "text": [
      "Downloading data from https://storage.googleapis.com/tensorflow/tf-keras-datasets/reuters.npz\n",
      "2113536/2110848 [==============================] - 0s 0us/step\n"
     ]
    },
    {
     "name": "stderr",
     "output_type": "stream",
     "text": [
      "C:\\Users\\User\\anaconda3\\lib\\site-packages\\tensorflow\\python\\keras\\datasets\\reuters.py:148: VisibleDeprecationWarning: Creating an ndarray from ragged nested sequences (which is a list-or-tuple of lists-or-tuples-or ndarrays with different lengths or shapes) is deprecated. If you meant to do this, you must specify 'dtype=object' when creating the ndarray\n",
      "  x_train, y_train = np.array(xs[:idx]), np.array(labels[:idx])\n",
      "C:\\Users\\User\\anaconda3\\lib\\site-packages\\tensorflow\\python\\keras\\datasets\\reuters.py:149: VisibleDeprecationWarning: Creating an ndarray from ragged nested sequences (which is a list-or-tuple of lists-or-tuples-or ndarrays with different lengths or shapes) is deprecated. If you meant to do this, you must specify 'dtype=object' when creating the ndarray\n",
      "  x_test, y_test = np.array(xs[idx:]), np.array(labels[idx:])\n"
     ]
    },
    {
     "name": "stdout",
     "output_type": "stream",
     "text": [
      "46 카테고리\n",
      "8982 학습용 뉴스 기사\n",
      "2246 테스트용 뉴스 기사\n",
      "[1, 2, 2, 8, 43, 10, 447, 5, 25, 207, 270, 5, 2, 111, 16, 369, 186, 90, 67, 7, 89, 5, 19, 102, 6, 19, 124, 15, 90, 67, 84, 22, 482, 26, 7, 48, 4, 49, 8, 864, 39, 209, 154, 6, 151, 6, 83, 11, 15, 22, 155, 11, 15, 7, 48, 9, 2, 2, 504, 6, 258, 6, 272, 11, 15, 22, 134, 44, 11, 15, 16, 8, 197, 2, 90, 67, 52, 29, 209, 30, 32, 132, 6, 109, 15, 17, 12]\n",
      "Epoch 1/20\n",
      "90/90 [==============================] - 9s 102ms/step - loss: 2.5777 - accuracy: 0.3497 - val_loss: 2.1698 - val_accuracy: 0.4488\n",
      "Epoch 2/20\n",
      "90/90 [==============================] - 8s 90ms/step - loss: 2.0343 - accuracy: 0.4905 - val_loss: 1.9434 - val_accuracy: 0.4911\n",
      "Epoch 3/20\n",
      "90/90 [==============================] - 8s 91ms/step - loss: 1.8457 - accuracy: 0.5239 - val_loss: 1.7790 - val_accuracy: 0.5557\n",
      "Epoch 4/20\n",
      "90/90 [==============================] - 8s 93ms/step - loss: 1.7606 - accuracy: 0.5459 - val_loss: 1.7379 - val_accuracy: 0.5583\n",
      "Epoch 5/20\n",
      "90/90 [==============================] - 8s 91ms/step - loss: 1.6541 - accuracy: 0.5726 - val_loss: 1.6544 - val_accuracy: 0.5721\n",
      "Epoch 6/20\n",
      "90/90 [==============================] - 8s 92ms/step - loss: 1.6734 - accuracy: 0.5667 - val_loss: 1.6574 - val_accuracy: 0.5980\n",
      "Epoch 7/20\n",
      "90/90 [==============================] - 8s 91ms/step - loss: 1.5549 - accuracy: 0.6091 - val_loss: 1.5688 - val_accuracy: 0.6135\n",
      "Epoch 8/20\n",
      "90/90 [==============================] - 8s 91ms/step - loss: 1.4485 - accuracy: 0.6273 - val_loss: 1.4797 - val_accuracy: 0.6220\n",
      "Epoch 9/20\n",
      "90/90 [==============================] - 8s 90ms/step - loss: 1.3567 - accuracy: 0.6520 - val_loss: 1.4534 - val_accuracy: 0.6349\n",
      "Epoch 10/20\n",
      "90/90 [==============================] - 8s 90ms/step - loss: 1.2759 - accuracy: 0.6730 - val_loss: 1.4387 - val_accuracy: 0.6371\n",
      "Epoch 11/20\n",
      "90/90 [==============================] - 8s 92ms/step - loss: 1.2445 - accuracy: 0.6858 - val_loss: 1.4021 - val_accuracy: 0.6554\n",
      "Epoch 12/20\n",
      "90/90 [==============================] - 8s 88ms/step - loss: 1.1667 - accuracy: 0.7057 - val_loss: 1.3502 - val_accuracy: 0.6652\n",
      "Epoch 13/20\n",
      "90/90 [==============================] - 8s 87ms/step - loss: 1.1234 - accuracy: 0.7152 - val_loss: 1.2905 - val_accuracy: 0.6714\n",
      "Epoch 14/20\n",
      "90/90 [==============================] - 8s 88ms/step - loss: 1.0635 - accuracy: 0.7287 - val_loss: 1.2670 - val_accuracy: 0.6888\n",
      "Epoch 15/20\n",
      "90/90 [==============================] - 8s 88ms/step - loss: 1.0082 - accuracy: 0.7410 - val_loss: 1.2573 - val_accuracy: 0.6892\n",
      "Epoch 16/20\n",
      "90/90 [==============================] - 8s 93ms/step - loss: 0.9768 - accuracy: 0.7524 - val_loss: 1.2327 - val_accuracy: 0.6874\n",
      "Epoch 17/20\n",
      "90/90 [==============================] - 8s 91ms/step - loss: 0.9211 - accuracy: 0.7625 - val_loss: 1.2401 - val_accuracy: 0.7048\n",
      "Epoch 18/20\n",
      "90/90 [==============================] - 8s 88ms/step - loss: 0.8867 - accuracy: 0.7750 - val_loss: 1.2005 - val_accuracy: 0.7070\n",
      "Epoch 19/20\n",
      "90/90 [==============================] - 8s 88ms/step - loss: 0.8468 - accuracy: 0.7859 - val_loss: 1.2443 - val_accuracy: 0.6883\n",
      "Epoch 20/20\n",
      "90/90 [==============================] - 8s 88ms/step - loss: 0.8092 - accuracy: 0.7941 - val_loss: 1.2277 - val_accuracy: 0.7182\n",
      "71/71 [==============================] - 1s 12ms/step - loss: 1.2277 - accuracy: 0.7182\n",
      "\n",
      " Test Accuracy: 0.7182\n"
     ]
    },
    {
     "data": {
      "image/png": "[encoded data removed]",
      "text/plain": [
       "<Figure size 432x288 with 1 Axes>"
      ]
     },
     "metadata": {
      "needs_background": "light"
     },
     "output_type": "display_data"
    }
   ],
   "source": [
    "# -*- coding: utf-8 -*-\n",
    "# 코드 내부에 한글을 사용가능 하게 해주는 부분입니다.\n",
    "\n",
    "import numpy\n",
    "import tensorflow as tf\n",
    "import matplotlib.pyplot as plt\n",
    "\n",
    "# 로이터 뉴스 데이터셋 불러오기\n",
    "from keras.datasets import reuters\n",
    "from keras.models import Sequential\n",
    "#from tensorflow.keras.models import Sequential\n",
    "#from tensorflow.keras.layers import Dense,LSTM,Embedding\n",
    "from keras.layers import Dense, LSTM, Embedding\n",
    "from keras.preprocessing import sequence\n",
    "from keras.utils import np_utils\n",
    "\n",
    "\n",
    "\n",
    "# seed 값 설정\n",
    "seed = 0\n",
    "numpy.random.seed(seed)\n",
    "tf.random.set_seed(3)\n",
    "\n",
    "# 불러온 데이터를 학습셋, 테스트셋으로 나누기\n",
    "# num_words=1000 => 빈도수 1 ~ 1000 의 단어만 불러옴\n",
    "(X_train, Y_train), (X_test, Y_test) = reuters.load_data(num_words=1000, test_split=0.2)\n",
    "\n",
    "# 데이터 확인하기\n",
    "category = numpy.max(Y_train) + 1\n",
    "print(category, '카테고리')\n",
    "print(len(X_train), '학습용 뉴스 기사')\n",
    "print(len(X_test), '테스트용 뉴스 기사')\n",
    "print(X_train[0])\n",
    "\n",
    "# 데이터 전처리\n",
    "# 단어수가 다름을 맞춰줌\n",
    "x_train = sequence.pad_sequences(X_train, maxlen=100)\n",
    "x_test = sequence.pad_sequences(X_test, maxlen=100)\n",
    "y_train = np_utils.to_categorical(Y_train)\n",
    "y_test = np_utils.to_categorical(Y_test)\n",
    "\n",
    "# 모델의 설정\n",
    "model = Sequential()\n",
    "model.add(Embedding(1000, 100))  # '불러온 단어의 총 개수', '기사당 단어 수'\n",
    "model.add(LSTM(100, activation='tanh'))   # '기사당 단어 수', '기타 옵션'\n",
    "model.add(Dense(46, activation='softmax'))\n",
    "\n",
    "# 모델의 컴파일\n",
    "model.compile(loss='categorical_crossentropy',\n",
    "            optimizer='adam',\n",
    "            metrics=['accuracy'])\n",
    "\n",
    "# 모델의 실행\n",
    "history = model.fit(x_train, y_train, batch_size=100, epochs=20, validation_data=(x_test, y_test))\n",
    "\n",
    "# 테스트 정확도 출력\n",
    "print(\"\\n Test Accuracy: %.4f\" % (model.evaluate(x_test, y_test)[1]))\n",
    "\n",
    "\n",
    "# 테스트 셋의 오차\n",
    "y_vloss = history.history['val_loss']\n",
    "\n",
    "# 학습셋의 오차\n",
    "y_loss = history.history['loss']\n",
    "\n",
    "# 그래프로 표현\n",
    "x_len = numpy.arange(len(y_loss))\n",
    "plt.plot(x_len, y_vloss, marker='.', c=\"red\", label='Testset_loss')\n",
    "plt.plot(x_len, y_loss, marker='.', c=\"blue\", label='Trainset_loss')\n",
    "\n",
    "# 그래프에 그리드를 주고 레이블을 표시\n",
    "plt.legend(loc='upper right')\n",
    "plt.grid()\n",
    "plt.xlabel('epoch')\n",
    "plt.ylabel('loss')\n",
    "plt.show()\n"
   ]
  },
  {
   "cell_type": "code",
   "execution_count": null,
   "metadata": {},
   "outputs": [],
   "source": []
  }
 ],
 "metadata": {
  "kernelspec": {
   "display_name": "Python 3",
   "language": "python",
   "name": "python3"
  },
  "language_info": {
   "codemirror_mode": {
    "name": "ipython",
    "version": 3
   },
   "file_extension": ".py",
   "mimetype": "text/x-python",
   "name": "python",
   "nbconvert_exporter": "python",
   "pygments_lexer": "ipython3",
   "version": "3.8.5"
  }
 },
 "nbformat": 4,
 "nbformat_minor": 2
}
